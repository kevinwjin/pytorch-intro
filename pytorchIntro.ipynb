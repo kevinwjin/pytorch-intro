{
  "nbformat": 4,
  "nbformat_minor": 0,
  "metadata": {
    "colab": {
      "name": "pytorchIntro.ipynb",
      "provenance": [],
      "collapsed_sections": [],
      "authorship_tag": "ABX9TyPKu2m8WnkTkrDko4rdZQ92",
      "include_colab_link": true
    },
    "kernelspec": {
      "name": "python3",
      "display_name": "Python 3"
    },
    "language_info": {
      "name": "python"
    },
    "accelerator": "GPU"
  },
  "cells": [
    {
      "cell_type": "markdown",
      "metadata": {
        "id": "view-in-github",
        "colab_type": "text"
      },
      "source": [
        "<a href=\"https://colab.research.google.com/github/kevinwjin/pytorch-intro/blob/main/pytorchIntro.ipynb\" target=\"_parent\"><img src=\"https://colab.research.google.com/assets/colab-badge.svg\" alt=\"Open In Colab\"/></a>"
      ]
    },
    {
      "cell_type": "code",
      "source": [
        "import torch\n",
        "from torch import nn\n",
        "from torch.utils.data import DataLoader\n",
        "from torchvision.utils import make_grid\n",
        "from torchvision.datasets import CIFAR10\n",
        "from torchvision.transforms import ToTensor\n",
        "from torchvision.transforms import Normalize, Compose\n",
        "import os\n",
        "import matplotlib.pyplot as plt\n",
        "import numpy as np"
      ],
      "metadata": {
        "id": "m6S0FjurhC7L"
      },
      "execution_count": 55,
      "outputs": []
    },
    {
      "cell_type": "code",
      "execution_count": 56,
      "metadata": {
        "colab": {
          "base_uri": "https://localhost:8080/"
        },
        "id": "lwlioaIfgYoz",
        "outputId": "946c7b55-fe47-4543-e812-5813a46b78e2"
      },
      "outputs": [
        {
          "output_type": "execute_result",
          "data": {
            "text/plain": [
              "[[6, 9, 2], [3, 3, 7], [1, 0, 3]]"
            ]
          },
          "metadata": {},
          "execution_count": 56
        }
      ],
      "source": [
        "A = [[6, 9, 2],\n",
        "     [3, 3, 7],\n",
        "     [1, 0, 3]]\n",
        "A_tensor = torch.tensor(A)\n",
        "A"
      ]
    },
    {
      "cell_type": "code",
      "source": [
        "B = np.array([0, 1, 2, 3])\n",
        "B_tensor = torch.from_numpy(B)\n",
        "B"
      ],
      "metadata": {
        "colab": {
          "base_uri": "https://localhost:8080/"
        },
        "id": "mwLoJrrhhmPN",
        "outputId": "dfb9e33d-1ece-4789-e031-8fe966e58c3e"
      },
      "execution_count": 57,
      "outputs": [
        {
          "output_type": "execute_result",
          "data": {
            "text/plain": [
              "array([0, 1, 2, 3])"
            ]
          },
          "metadata": {},
          "execution_count": 57
        }
      ]
    },
    {
      "cell_type": "code",
      "source": [
        "C = torch.zeros(4, 4)\n",
        "C"
      ],
      "metadata": {
        "colab": {
          "base_uri": "https://localhost:8080/"
        },
        "id": "zO5JilN7hvBq",
        "outputId": "b35d8b59-a21e-4fc0-e817-5037f95231f5"
      },
      "execution_count": 58,
      "outputs": [
        {
          "output_type": "execute_result",
          "data": {
            "text/plain": [
              "tensor([[0., 0., 0., 0.],\n",
              "        [0., 0., 0., 0.],\n",
              "        [0., 0., 0., 0.],\n",
              "        [0., 0., 0., 0.]])"
            ]
          },
          "metadata": {},
          "execution_count": 58
        }
      ]
    },
    {
      "cell_type": "code",
      "source": [
        "D = torch.ones(3, 3, 2, dtype = torch.int)\n",
        "D"
      ],
      "metadata": {
        "colab": {
          "base_uri": "https://localhost:8080/"
        },
        "id": "uPW6qXmrh6px",
        "outputId": "4a06b1b1-ca70-4043-ed9d-c277ada813aa"
      },
      "execution_count": 59,
      "outputs": [
        {
          "output_type": "execute_result",
          "data": {
            "text/plain": [
              "tensor([[[1, 1],\n",
              "         [1, 1],\n",
              "         [1, 1]],\n",
              "\n",
              "        [[1, 1],\n",
              "         [1, 1],\n",
              "         [1, 1]],\n",
              "\n",
              "        [[1, 1],\n",
              "         [1, 1],\n",
              "         [1, 1]]], dtype=torch.int32)"
            ]
          },
          "metadata": {},
          "execution_count": 59
        }
      ]
    },
    {
      "cell_type": "code",
      "source": [
        "A_tensor_zeros = torch.zeros_like(A_tensor)\n",
        "A_tensor_zeros"
      ],
      "metadata": {
        "colab": {
          "base_uri": "https://localhost:8080/"
        },
        "id": "Wk_oGTYlibY0",
        "outputId": "7a0f1ebd-a860-4c31-b811-8645ae769fff"
      },
      "execution_count": 60,
      "outputs": [
        {
          "output_type": "execute_result",
          "data": {
            "text/plain": [
              "tensor([[0, 0, 0],\n",
              "        [0, 0, 0],\n",
              "        [0, 0, 0]])"
            ]
          },
          "metadata": {},
          "execution_count": 60
        }
      ]
    },
    {
      "cell_type": "code",
      "source": [
        "# the dtype argument allows you to explicitly specify the datatype of the tensor\n",
        "A_tensor_rand = torch.rand_like(A_tensor, dtype = torch.float)\n",
        "A_tensor_rand"
      ],
      "metadata": {
        "colab": {
          "base_uri": "https://localhost:8080/"
        },
        "id": "Eqh6r0jNioQM",
        "outputId": "0d152c1c-6bec-4588-80e0-647fcbe68e60"
      },
      "execution_count": 61,
      "outputs": [
        {
          "output_type": "execute_result",
          "data": {
            "text/plain": [
              "tensor([[0.3478, 0.4409, 0.9035],\n",
              "        [0.3793, 0.6929, 0.5623],\n",
              "        [0.9174, 0.7243, 0.4143]])"
            ]
          },
          "metadata": {},
          "execution_count": 61
        }
      ]
    },
    {
      "cell_type": "code",
      "source": [
        "A_tensor_rand.dtype\n",
        "A_tensor_rand.shape\n",
        "A_tensor_rand.device"
      ],
      "metadata": {
        "colab": {
          "base_uri": "https://localhost:8080/"
        },
        "id": "21VTQ6p8i6Jx",
        "outputId": "b4d30da7-ae5d-4b94-dd18-f4e19d778127"
      },
      "execution_count": 62,
      "outputs": [
        {
          "output_type": "execute_result",
          "data": {
            "text/plain": [
              "device(type='cpu')"
            ]
          },
          "metadata": {},
          "execution_count": 62
        }
      ]
    },
    {
      "cell_type": "code",
      "source": [
        "# True if a GPU (instead of CPU) is available to train on\n",
        "torch.cuda.is_available()\n",
        "device = torch.device('cuda' if torch.cuda.is_available() else 'cpu')\n",
        "print(f'Device: {device}')"
      ],
      "metadata": {
        "colab": {
          "base_uri": "https://localhost:8080/"
        },
        "id": "8pzehw4PkP3E",
        "outputId": "9698b9b3-7939-4229-c2f5-7eebe366432c"
      },
      "execution_count": 63,
      "outputs": [
        {
          "output_type": "stream",
          "name": "stdout",
          "text": [
            "Device: cuda\n"
          ]
        }
      ]
    },
    {
      "cell_type": "code",
      "source": [
        "# Train image model on CIFAR10 dataset\n",
        "# Define transform function; normalize images\n",
        "transform = Compose(\n",
        "    [ToTensor(),\n",
        "     Normalize((0.5, 0.5, 0.5),  # mean\n",
        "               (0.5, 0.5, 0.5))] # standard deviation\n",
        ")"
      ],
      "metadata": {
        "id": "K0KjXdG3mF6Z"
      },
      "execution_count": 64,
      "outputs": []
    },
    {
      "cell_type": "code",
      "source": [
        "training_data = CIFAR10(root = \"cifar\",\n",
        "                        train = True, # training set, 50k images\n",
        "                        download = True,\n",
        "                        transform = transform)\n",
        "\n",
        "test_data = CIFAR10(root = \"cifar\",\n",
        "                    train = False, # test set, 10k images\n",
        "                    download = True,\n",
        "                    transform = transform)"
      ],
      "metadata": {
        "colab": {
          "base_uri": "https://localhost:8080/"
        },
        "id": "i2aY6bIxmkHs",
        "outputId": "c297ed8d-c5d7-49af-85b4-2c17d2cde07c"
      },
      "execution_count": 65,
      "outputs": [
        {
          "output_type": "stream",
          "name": "stdout",
          "text": [
            "Files already downloaded and verified\n",
            "Files already downloaded and verified\n"
          ]
        }
      ]
    },
    {
      "cell_type": "code",
      "source": [
        "# Prepare to feed dataset into neural network using DataLoader iterator\n",
        "batch_size = 4\n",
        "train_dataloader = DataLoader(training_data,\n",
        "                              batch_size = batch_size,\n",
        "                              shuffle = True)\n",
        "\n",
        "test_dataloader = DataLoader(test_data,\n",
        "                             batch_size = batch_size,\n",
        "                             shuffle = True)"
      ],
      "metadata": {
        "id": "eB3UKIiGnFnl"
      },
      "execution_count": 66,
      "outputs": []
    },
    {
      "cell_type": "code",
      "source": [
        "# Check dimensions of one iteration\n",
        "for X, y in train_dataloader:\n",
        "  print(f'Shape of X [N, C, H, W]: {X.shape}')\n",
        "  print(f'Shape of y: {y.shape} {y.dtype}')\n",
        "  break\n",
        "\n",
        "# Each iteration through train_dataloader is a mini-batch of \n",
        "# four 32x32 images and their 4 corresponding labels."
      ],
      "metadata": {
        "colab": {
          "base_uri": "https://localhost:8080/"
        },
        "id": "LbyRDKqCn9OC",
        "outputId": "8cd4ed01-e4f0-4c78-c6d8-c91c613934ae"
      },
      "execution_count": 67,
      "outputs": [
        {
          "output_type": "stream",
          "name": "stdout",
          "text": [
            "Shape of X [N, C, H, W]: torch.Size([4, 3, 32, 32])\n",
            "Shape of y: torch.Size([4]) torch.int64\n"
          ]
        }
      ]
    },
    {
      "cell_type": "code",
      "source": [
        "# Display a few images in the training set\n",
        "def imshow(img):\n",
        "  img = img / 2 + 0.05 # revert normalization for viewing\n",
        "  npimg = img.numpy()\n",
        "  plt.imshow(np.transpose(npimg, (1, 2, 0)))\n",
        "  plt.show()\n",
        "\n",
        "classes = training_data.classes\n",
        "training_data.classes\n",
        "\n",
        "dataiter = iter(train_dataloader)\n",
        "images, labels = dataiter.next()\n",
        "imshow(make_grid(images))\n",
        "print(' '.join(f'{classes[labels[j]]:5s}' for j in range(batch_size)))"
      ],
      "metadata": {
        "colab": {
          "base_uri": "https://localhost:8080/",
          "height": 173
        },
        "id": "H-M0WauvoeUl",
        "outputId": "f02370d0-b0c2-43b6-e069-5acbd236f043"
      },
      "execution_count": 68,
      "outputs": [
        {
          "output_type": "stream",
          "name": "stderr",
          "text": [
            "Clipping input data to the valid range for imshow with RGB data ([0..1] for floats or [0..255] for integers).\n"
          ]
        },
        {
          "output_type": "display_data",
          "data": {
            "text/plain": [
              "<Figure size 432x288 with 1 Axes>"
            ],
            "image/png": "[encoded data removed]"
          },
          "metadata": {
            "needs_background": "light"
          }
        },
        {
          "output_type": "stream",
          "name": "stdout",
          "text": [
            "bird  dog   bird  horse\n"
          ]
        }
      ]
    },
    {
      "cell_type": "code",
      "source": [
        "# Build neural network: Define the base model\n",
        "class NeuralNetwork(nn.Module):\n",
        "  def __init__(self):\n",
        "    super(NeuralNetwork, self).__init__()\n",
        "    self.flatten = nn.Flatten() # transform 3D tensor into 1D array\n",
        "    self.linear_relu_stack = nn.Sequential( # hidden layers\n",
        "        nn.Linear(32*32*3, 1024),\n",
        "        nn.ReLU(),\n",
        "        nn.Linear(1024, 512),\n",
        "        nn.ReLU(),\n",
        "        nn.Linear(512, 10)\n",
        "    )\n",
        "  def forward(self, x):\n",
        "    x = self.flatten(x)\n",
        "    logits = self.linear_relu_stack(x)\n",
        "    return logits\n",
        "    \n",
        "model = NeuralNetwork().to(device) # attach neural network to CUDA\n",
        "print(model) # summary of structure"
      ],
      "metadata": {
        "colab": {
          "base_uri": "https://localhost:8080/"
        },
        "id": "9pRFCKJfpQX4",
        "outputId": "866c3bb2-aed6-4b80-b0a6-3d53e7e790f2"
      },
      "execution_count": 69,
      "outputs": [
        {
          "output_type": "stream",
          "name": "stdout",
          "text": [
            "NeuralNetwork(\n",
            "  (flatten): Flatten(start_dim=1, end_dim=-1)\n",
            "  (linear_relu_stack): Sequential(\n",
            "    (0): Linear(in_features=3072, out_features=1024, bias=True)\n",
            "    (1): ReLU()\n",
            "    (2): Linear(in_features=1024, out_features=512, bias=True)\n",
            "    (3): ReLU()\n",
            "    (4): Linear(in_features=512, out_features=10, bias=True)\n",
            "  )\n",
            ")\n"
          ]
        }
      ]
    },
    {
      "cell_type": "code",
      "source": [
        "# Define loss function and optimizer\n",
        "loss_fn = nn.CrossEntropyLoss()\n",
        "optimizer = torch.optim.SGD( model.parameters(), lr = 0.001 ) # momentum = 0.9"
      ],
      "metadata": {
        "id": "TJ5eWTnRrvPI"
      },
      "execution_count": 70,
      "outputs": []
    },
    {
      "cell_type": "code",
      "source": [
        "# Define the training loop\n",
        "def train(dataloader, model, loss_fn, optimizer):\n",
        "  size = len(dataloader.dataset)\n",
        "  model.train() # set model to training mode\n",
        "  for batch, (X, y) in enumerate(dataloader):\n",
        "    X, y = X.to(device), y.to(device)\n",
        "    # Compute prediction error\n",
        "    pred = model(X)\n",
        "    loss = loss_fn(pred, y)\n",
        "    # Backpropagation\n",
        "    optimizer.zero_grad()\n",
        "    loss.backward() # loss = penalty for a bad prediction\n",
        "    optimizer.step()\n",
        "    if batch % 2000 == 0: # print computed loss every 2000 training samples\n",
        "      loss, current = loss.item(), batch * len(X)\n",
        "      print(f'loss: {loss:>7f} [{current:>5d}/{size:>5d}]')"
      ],
      "metadata": {
        "id": "DjHZY0qVsDeU"
      },
      "execution_count": 71,
      "outputs": []
    },
    {
      "cell_type": "code",
      "source": [
        "# Define the test function to evaluate the model after every epoch\n",
        "def test(dataloader, model, loss_fn):\n",
        "  size = len(dataloader.dataset)\n",
        "  num_batches = len(dataloader)\n",
        "  model.eval() # set model to testing mode\n",
        "  test_loss, correct = 0, 0\n",
        "  with torch.no_grad():  # Disable gradient calculation\n",
        "    for X, y in dataloader:\n",
        "      X, y = X.to(device), y.to(device)\n",
        "      pred = model(X)\n",
        "      test_loss += loss_fn(pred, y).item()\n",
        "      correct += (pred.argmax(1) == y).type(torch.float).sum().item()\n",
        "  test_loss /= num_batches\n",
        "  correct /= size\n",
        "  print(f'Test Error: \\n Accuracy : {(100 * correct):>0.1f}%, Avg Loss: {test_loss:>8f} \\n')"
      ],
      "metadata": {
        "id": "KZEoiGcStGeJ"
      },
      "execution_count": 72,
      "outputs": []
    },
    {
      "cell_type": "code",
      "source": [
        "# Train the model\n",
        "epochs = 10\n",
        "for t in range(epochs):\n",
        "  print(f'Epoch {t+1}\\n---------------------------------')\n",
        "  train(train_dataloader, model, loss_fn, optimizer)\n",
        "  test(test_dataloader, model, loss_fn)\n",
        "print('Done!')"
      ],
      "metadata": {
        "colab": {
          "base_uri": "https://localhost:8080/"
        },
        "id": "V_2WCJA0t5z6",
        "outputId": "a6afaca7-c922-459e-de8b-4d7bd4ed7b9c"
      },
      "execution_count": 73,
      "outputs": [
        {
          "output_type": "stream",
          "name": "stdout",
          "text": [
            "Epoch 1\n",
            "---------------------------------\n",
            "loss: 2.331644 [    0/50000]\n",
            "loss: 2.120354 [ 8000/50000]\n",
            "loss: 2.351751 [16000/50000]\n",
            "loss: 1.998426 [24000/50000]\n",
            "loss: 2.128920 [32000/50000]\n",
            "loss: 1.594628 [40000/50000]\n",
            "loss: 1.469181 [48000/50000]\n",
            "Test Error: \n",
            " Accuracy : 39.3%, Avg Loss: 1.716132 \n",
            "\n",
            "Epoch 2\n",
            "---------------------------------\n",
            "loss: 2.328233 [    0/50000]\n",
            "loss: 1.482545 [ 8000/50000]\n",
            "loss: 1.587057 [16000/50000]\n",
            "loss: 0.882040 [24000/50000]\n",
            "loss: 2.373311 [32000/50000]\n",
            "loss: 2.033620 [40000/50000]\n",
            "loss: 1.300619 [48000/50000]\n",
            "Test Error: \n",
            " Accuracy : 45.3%, Avg Loss: 1.573553 \n",
            "\n",
            "Epoch 3\n",
            "---------------------------------\n",
            "loss: 1.171744 [    0/50000]\n",
            "loss: 0.961821 [ 8000/50000]\n",
            "loss: 1.673367 [16000/50000]\n",
            "loss: 0.715818 [24000/50000]\n",
            "loss: 1.205686 [32000/50000]\n",
            "loss: 1.785862 [40000/50000]\n",
            "loss: 1.186280 [48000/50000]\n",
            "Test Error: \n",
            " Accuracy : 47.4%, Avg Loss: 1.493065 \n",
            "\n",
            "Epoch 4\n",
            "---------------------------------\n",
            "loss: 1.514398 [    0/50000]\n",
            "loss: 1.070111 [ 8000/50000]\n",
            "loss: 1.516344 [16000/50000]\n",
            "loss: 2.727503 [24000/50000]\n",
            "loss: 1.231620 [32000/50000]\n",
            "loss: 1.914926 [40000/50000]\n",
            "loss: 2.503813 [48000/50000]\n",
            "Test Error: \n",
            " Accuracy : 50.0%, Avg Loss: 1.430619 \n",
            "\n",
            "Epoch 5\n",
            "---------------------------------\n",
            "loss: 1.325549 [    0/50000]\n",
            "loss: 1.697857 [ 8000/50000]\n",
            "loss: 1.337355 [16000/50000]\n",
            "loss: 0.712291 [24000/50000]\n",
            "loss: 1.514656 [32000/50000]\n",
            "loss: 1.579346 [40000/50000]\n",
            "loss: 0.754650 [48000/50000]\n",
            "Test Error: \n",
            " Accuracy : 51.1%, Avg Loss: 1.394883 \n",
            "\n",
            "Epoch 6\n",
            "---------------------------------\n",
            "loss: 1.246042 [    0/50000]\n",
            "loss: 0.865635 [ 8000/50000]\n",
            "loss: 1.918878 [16000/50000]\n",
            "loss: 1.331503 [24000/50000]\n",
            "loss: 1.334153 [32000/50000]\n",
            "loss: 1.134246 [40000/50000]\n",
            "loss: 1.739334 [48000/50000]\n",
            "Test Error: \n",
            " Accuracy : 51.9%, Avg Loss: 1.364348 \n",
            "\n",
            "Epoch 7\n",
            "---------------------------------\n",
            "loss: 1.174513 [    0/50000]\n",
            "loss: 0.658541 [ 8000/50000]\n",
            "loss: 0.747260 [16000/50000]\n",
            "loss: 1.164073 [24000/50000]\n",
            "loss: 1.756746 [32000/50000]\n",
            "loss: 0.249487 [40000/50000]\n",
            "loss: 1.714679 [48000/50000]\n",
            "Test Error: \n",
            " Accuracy : 52.8%, Avg Loss: 1.338599 \n",
            "\n",
            "Epoch 8\n",
            "---------------------------------\n",
            "loss: 1.213078 [    0/50000]\n",
            "loss: 1.158996 [ 8000/50000]\n",
            "loss: 1.020566 [16000/50000]\n",
            "loss: 0.907083 [24000/50000]\n",
            "loss: 2.005765 [32000/50000]\n",
            "loss: 0.717965 [40000/50000]\n",
            "loss: 2.399358 [48000/50000]\n",
            "Test Error: \n",
            " Accuracy : 53.5%, Avg Loss: 1.322532 \n",
            "\n",
            "Epoch 9\n",
            "---------------------------------\n",
            "loss: 0.586168 [    0/50000]\n",
            "loss: 1.142322 [ 8000/50000]\n",
            "loss: 2.634080 [16000/50000]\n",
            "loss: 1.584199 [24000/50000]\n",
            "loss: 0.547779 [32000/50000]\n",
            "loss: 1.950938 [40000/50000]\n",
            "loss: 0.667001 [48000/50000]\n",
            "Test Error: \n",
            " Accuracy : 53.1%, Avg Loss: 1.332099 \n",
            "\n",
            "Epoch 10\n",
            "---------------------------------\n",
            "loss: 0.365695 [    0/50000]\n",
            "loss: 1.081915 [ 8000/50000]\n",
            "loss: 1.552858 [16000/50000]\n",
            "loss: 0.194243 [24000/50000]\n",
            "loss: 1.569739 [32000/50000]\n",
            "loss: 0.725681 [40000/50000]\n",
            "loss: 0.362724 [48000/50000]\n",
            "Test Error: \n",
            " Accuracy : 54.3%, Avg Loss: 1.304026 \n",
            "\n",
            "Done!\n"
          ]
        }
      ]
    },
    {
      "cell_type": "code",
      "source": [
        "# Save the model\n",
        "torch.save(model.state_dict(), \"cifar_fc.pth\")"
      ],
      "metadata": {
        "id": "War2OUnzwoPS"
      },
      "execution_count": 74,
      "outputs": []
    },
    {
      "cell_type": "code",
      "source": [
        "# Load thde model for inference\n",
        "model = NeuralNetwork()\n",
        "model.load_state_dict(torch.load(\"cifar_fc.pth\"))"
      ],
      "metadata": {
        "colab": {
          "base_uri": "https://localhost:8080/"
        },
        "id": "CP0Bwy7_w2dl",
        "outputId": "ba2abee9-5b12-4ba2-9d35-709ab2bc5ed8"
      },
      "execution_count": 75,
      "outputs": [
        {
          "output_type": "execute_result",
          "data": {
            "text/plain": [
              "<All keys matched successfully>"
            ]
          },
          "metadata": {},
          "execution_count": 75
        }
      ]
    },
    {
      "cell_type": "code",
      "source": [
        "# Evaluate the model\n",
        "dataiter = iter(test_dataloader)\n",
        "images, labels = dataiter.next()\n",
        "# Load a sample of images with their labels\n",
        "imshow(make_grid(images))\n",
        "print('Ground Truth: ', ' '.join(f'{classes[labels[j]]:5s}' for j in range(4)))\n",
        "# Compare to model's predicted labels\n",
        "outputs = model(images)\n",
        "_, predicted = torch.max(outputs, 1)\n",
        "print('Predicted: ', ' '.join(f'{classes[predicted[j]]:5s}' for j in range(4)))"
      ],
      "metadata": {
        "colab": {
          "base_uri": "https://localhost:8080/",
          "height": 190
        },
        "id": "X3hq4TOLw-oo",
        "outputId": "a8b35766-64c4-42d9-fe57-731c586b1891"
      },
      "execution_count": 81,
      "outputs": [
        {
          "output_type": "stream",
          "name": "stderr",
          "text": [
            "Clipping input data to the valid range for imshow with RGB data ([0..1] for floats or [0..255] for integers).\n"
          ]
        },
        {
          "output_type": "display_data",
          "data": {
            "text/plain": [
              "<Figure size 432x288 with 1 Axes>"
            ],
            "image/png": "[encoded data removed]"
          },
          "metadata": {
            "needs_background": "light"
          }
        },
        {
          "output_type": "stream",
          "name": "stdout",
          "text": [
            "Ground Truth:  frog  dog   frog  automobile\n",
            "Predicted:  frog  dog   truck automobile\n"
          ]
        }
      ]
    },
    {
      "cell_type": "code",
      "source": [
        "# Run the numbers on model performance\n",
        "correct = 0\n",
        "total = 0\n",
        "\n",
        "with torch.no_grad():\n",
        "  for data in test_dataloader:\n",
        "    images, labels = data\n",
        "    outputs = model(images)\n",
        "    _, predicted = torch.max(outputs.data, 1)\n",
        "    total += labels.size(0)\n",
        "    correct += (predicted == labels).sum().item()\n",
        "print(f'Model accuracy: {100 * correct // total}%')"
      ],
      "metadata": {
        "colab": {
          "base_uri": "https://localhost:8080/"
        },
        "id": "sNbkKF-nx2gE",
        "outputId": "38543a19-94ba-4cf0-b074-97ea7840153f"
      },
      "execution_count": 79,
      "outputs": [
        {
          "output_type": "stream",
          "name": "stdout",
          "text": [
            "Model accuracy: 54%\n"
          ]
        }
      ]
    },
    {
      "cell_type": "code",
      "source": [
        "# Check how model performed on each class\n",
        "correct_pred = {classname: 0 for classname in classes}\n",
        "total_pred = {classname: 0  for classname in classes}\n",
        "\n",
        "with torch.no_grad():\n",
        "  for data in test_dataloader:\n",
        "    images, labels = data\n",
        "    outputs = model(images)\n",
        "    _, predictions = torch.max(outputs, 1)\n",
        "    for label,prediction in zip(labels, predictions):\n",
        "      if label == prediction:\n",
        "        correct_pred[classes[label]] += 1\n",
        "      total_pred[classes[label]] += 1\n",
        "\n",
        "for classname, correct_count in correct_pred.items():\n",
        "  accuracy = 100 * float(correct_count) / total_pred[classname]\n",
        "  print(f'Accuracy for class {classname:5s}: {accuracy:.1f}%')"
      ],
      "metadata": {
        "colab": {
          "base_uri": "https://localhost:8080/"
        },
        "id": "peX4hmmsyb0i",
        "outputId": "fcd51bcd-aa66-443c-84dd-a59eeb0ac1b4"
      },
      "execution_count": 82,
      "outputs": [
        {
          "output_type": "stream",
          "name": "stdout",
          "text": [
            "Accuracy for class airplane: 59.1%\n",
            "Accuracy for class automobile: 69.0%\n",
            "Accuracy for class bird : 46.2%\n",
            "Accuracy for class cat  : 31.7%\n",
            "Accuracy for class deer : 43.5%\n",
            "Accuracy for class dog  : 42.2%\n",
            "Accuracy for class frog : 61.4%\n",
            "Accuracy for class horse: 62.7%\n",
            "Accuracy for class ship : 67.8%\n",
            "Accuracy for class truck: 59.4%\n"
          ]
        }
      ]
    }
  ]
}