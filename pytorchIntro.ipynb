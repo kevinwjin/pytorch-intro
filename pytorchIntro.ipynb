{
  "nbformat": 4,
  "nbformat_minor": 0,
  "metadata": {
    "colab": {
      "name": "pytorchIntro.ipynb",
      "provenance": [],
      "collapsed_sections": [],
      "authorship_tag": "ABX9TyODhTzesgzAg1ulS6bUG2iM",
      "include_colab_link": true
    },
    "kernelspec": {
      "name": "python3",
      "display_name": "Python 3"
    },
    "language_info": {
      "name": "python"
    },
    "accelerator": "GPU"
  },
  "cells": [
    {
      "cell_type": "markdown",
      "metadata": {
        "id": "view-in-github",
        "colab_type": "text"
      },
      "source": [
        "<a href=\"https://colab.research.google.com/github/kevinwjin/pytorch-intro/blob/main/pytorchIntro.ipynb\" target=\"_parent\"><img src=\"https://colab.research.google.com/assets/colab-badge.svg\" alt=\"Open In Colab\"/></a>"
      ]
    },
    {
      "cell_type": "code",
      "source": [
        "import torch\n",
        "from torch import nn\n",
        "from torch.utils.data import DataLoader\n",
        "from torchvision.utils import make_grid\n",
        "from torchvision.datasets import CIFAR10\n",
        "from torchvision.transforms import ToTensor\n",
        "from torchvision.transforms import Normalize, Compose\n",
        "import os\n",
        "import matplotlib.pyplot as plt\n",
        "import numpy as np"
      ],
      "metadata": {
        "id": "m6S0FjurhC7L"
      },
      "execution_count": null,
      "outputs": []
    },
    {
      "cell_type": "code",
      "execution_count": null,
      "metadata": {
        "id": "lwlioaIfgYoz"
      },
      "outputs": [],
      "source": [
        "A = [[6, 9, 2],\n",
        "     [3, 3, 7],\n",
        "     [1, 0, 3]]\n",
        "A_tensor = torch.tensor(A)\n",
        "A"
      ]
    },
    {
      "cell_type": "code",
      "source": [
        "B = np.array([0, 1, 2, 3])\n",
        "B_tensor = torch.from_numpy(B)\n",
        "B"
      ],
      "metadata": {
        "id": "mwLoJrrhhmPN"
      },
      "execution_count": null,
      "outputs": []
    },
    {
      "cell_type": "code",
      "source": [
        "C = torch.zeros(4, 4)\n",
        "C"
      ],
      "metadata": {
        "id": "zO5JilN7hvBq"
      },
      "execution_count": null,
      "outputs": []
    },
    {
      "cell_type": "code",
      "source": [
        "D = torch.ones(3, 3, 2, dtype = torch.int)\n",
        "D"
      ],
      "metadata": {
        "id": "uPW6qXmrh6px"
      },
      "execution_count": null,
      "outputs": []
    },
    {
      "cell_type": "code",
      "source": [
        "A_tensor_zeros = torch.zeros_like(A_tensor)\n",
        "A_tensor_zeros"
      ],
      "metadata": {
        "id": "Wk_oGTYlibY0"
      },
      "execution_count": null,
      "outputs": []
    },
    {
      "cell_type": "code",
      "source": [
        "# the dtype argument allows you to explicitly specify the datatype of the tensor\n",
        "A_tensor_rand = torch.rand_like(A_tensor, dtype = torch.float)\n",
        "A_tensor_rand"
      ],
      "metadata": {
        "id": "Eqh6r0jNioQM"
      },
      "execution_count": null,
      "outputs": []
    },
    {
      "cell_type": "code",
      "source": [
        "A_tensor_rand.dtype\n",
        "A_tensor_rand.shape\n",
        "A_tensor_rand.device"
      ],
      "metadata": {
        "id": "21VTQ6p8i6Jx"
      },
      "execution_count": null,
      "outputs": []
    },
    {
      "cell_type": "code",
      "source": [
        "# True if a GPU (instead of CPU) is available to train on\n",
        "torch.cuda.is_available()"
      ],
      "metadata": {
        "id": "8pzehw4PkP3E"
      },
      "execution_count": null,
      "outputs": []
    },
    {
      "cell_type": "code",
      "source": [
        "## Train image model on CIFAR10 dataset\n",
        "# Define transform function; normalize images\n",
        "transform = Compose(\n",
        "    [ToTensor(),\n",
        "     Normalize((0.5, 0.5, 0.5),  # mean\n",
        "               (0.5, 0.5, 0.5))] # standard deviation\n",
        ")"
      ],
      "metadata": {
        "id": "K0KjXdG3mF6Z"
      },
      "execution_count": null,
      "outputs": []
    },
    {
      "cell_type": "code",
      "source": [
        "training_data = CIFAR10(root = \"cifar\",\n",
        "                        train = True, # training set, 50k images\n",
        "                        download = True,\n",
        "                        transform = transform)\n",
        "\n",
        "test_data = CIFAR10(root = \"cifar\",\n",
        "                    train = False, # test set, 10k images\n",
        "                    download = True,\n",
        "                    transform = transform)"
      ],
      "metadata": {
        "id": "i2aY6bIxmkHs"
      },
      "execution_count": null,
      "outputs": []
    },
    {
      "cell_type": "code",
      "source": [
        "# Prepare to feed dataset into neural network\n",
        "batch_size = 4\n",
        "train_dataloader = DataLoader(training_data,\n",
        "                              batch_size = batch_size,\n",
        "                              shuffle = True)\n",
        "\n",
        "test_dataloader = DataLoader(test_data,\n",
        "                             batch_size = batch_size,\n",
        "                             shuffle = True)"
      ],
      "metadata": {
        "id": "eB3UKIiGnFnl"
      },
      "execution_count": null,
      "outputs": []
    },
    {
      "cell_type": "code",
      "source": [
        "for X, y in train_dataloader:\n",
        "  print(f'Shape of X [N, C, H, W]: {X.shape}')\n",
        "  print(f'Shape of y: {y.shape} {y.dtype}')\n",
        "  break\n",
        "\n",
        "# Each iteration through train_dataloader is a mini-batch of \n",
        "# four 32x32 images and their 4 corresponding labels."
      ],
      "metadata": {
        "colab": {
          "base_uri": "https://localhost:8080/"
        },
        "id": "LbyRDKqCn9OC",
        "outputId": "4bb0e7bd-6a8e-4c25-d2a9-f6b9c4366280"
      },
      "execution_count": 27,
      "outputs": [
        {
          "output_type": "stream",
          "name": "stdout",
          "text": [
            "Shape of X [N, C, H, W]: torch.Size([4, 3, 32, 32])\n",
            "Shape of y: torch.Size([4]) torch.int64\n"
          ]
        }
      ]
    },
    {
      "cell_type": "code",
      "source": [
        "# Display a few images in the training set\n",
        "def imshow(img):\n",
        "  img = img / 2 + 0.05 # revert normalization for viewing\n",
        "  npimg = img.numpy()\n",
        "  plt.imshow(np.transpose(npimg, (1, 2, 0)))\n",
        "  plt.show()\n",
        "\n",
        "classes = training_data.classes\n",
        "training_data.classes\n",
        "\n",
        "dataiter = iter(train_dataloader)\n",
        "images, labels = dataiter.next()\n",
        "imshow(make_grid(images))\n",
        "print(' '.join(f'{classes[labels[j]]:5s}' for j in range(batch_size)))"
      ],
      "metadata": {
        "colab": {
          "base_uri": "https://localhost:8080/",
          "height": 193
        },
        "id": "H-M0WauvoeUl",
        "outputId": "e11ebec3-2265-4c5a-aaab-f1721b4d1516"
      },
      "execution_count": 28,
      "outputs": [
        {
          "output_type": "stream",
          "name": "stderr",
          "text": [
            "Clipping input data to the valid range for imshow with RGB data ([0..1] for floats or [0..255] for integers).\n"
          ]
        },
        {
          "output_type": "display_data",
          "data": {
            "text/plain": [
              "<Figure size 432x288 with 1 Axes>"
            ],
            "image/png": "[encoded data removed]"
          },
          "metadata": {
            "needs_background": "light"
          }
        },
        {
          "output_type": "stream",
          "name": "stdout",
          "text": [
            "bird  ship  deer  truck\n"
          ]
        }
      ]
    },
    {
      "cell_type": "code",
      "source": [
        ""
      ],
      "metadata": {
        "id": "9pRFCKJfpQX4"
      },
      "execution_count": null,
      "outputs": []
    }
  ]
}