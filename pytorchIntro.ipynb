{
  "nbformat": 4,
  "nbformat_minor": 0,
  "metadata": {
    "colab": {
      "name": "pytorchIntro.ipynb",
      "provenance": [],
      "collapsed_sections": [],
      "authorship_tag": "ABX9TyMAOfNw6OBcZbM63i35NZJa",
      "include_colab_link": true
    },
    "kernelspec": {
      "name": "python3",
      "display_name": "Python 3"
    },
    "language_info": {
      "name": "python"
    },
    "accelerator": "GPU"
  },
  "cells": [
    {
      "cell_type": "markdown",
      "metadata": {
        "id": "view-in-github",
        "colab_type": "text"
      },
      "source": [
        "<a href=\"https://colab.research.google.com/github/kevinwjin/pytorch-intro/blob/main/pytorchIntro.ipynb\" target=\"_parent\"><img src=\"https://colab.research.google.com/assets/colab-badge.svg\" alt=\"Open In Colab\"/></a>"
      ]
    },
    {
      "cell_type": "code",
      "source": [
        "import torch\n",
        "from torch import nn\n",
        "from torch.utils.data import DataLoader\n",
        "from torchvision.utils import make_grid\n",
        "from torchvision.datasets import CIFAR10\n",
        "from torchvision.transforms import ToTensor\n",
        "from torchvision.transforms import Normalize, Compose\n",
        "import os\n",
        "import matplotlib.pyplot as plt\n",
        "import numpy as np"
      ],
      "metadata": {
        "id": "m6S0FjurhC7L"
      },
      "execution_count": null,
      "outputs": []
    },
    {
      "cell_type": "code",
      "execution_count": null,
      "metadata": {
        "id": "lwlioaIfgYoz"
      },
      "outputs": [],
      "source": [
        "A = [[6, 9, 2],\n",
        "     [3, 3, 7],\n",
        "     [1, 0, 3]]\n",
        "A_tensor = torch.tensor(A)\n",
        "A"
      ]
    },
    {
      "cell_type": "code",
      "source": [
        "B = np.array([0, 1, 2, 3])\n",
        "B_tensor = torch.from_numpy(B)\n",
        "B"
      ],
      "metadata": {
        "id": "mwLoJrrhhmPN"
      },
      "execution_count": null,
      "outputs": []
    },
    {
      "cell_type": "code",
      "source": [
        "C = torch.zeros(4, 4)\n",
        "C"
      ],
      "metadata": {
        "id": "zO5JilN7hvBq"
      },
      "execution_count": null,
      "outputs": []
    },
    {
      "cell_type": "code",
      "source": [
        "D = torch.ones(3, 3, 2, dtype = torch.int)\n",
        "D"
      ],
      "metadata": {
        "id": "uPW6qXmrh6px"
      },
      "execution_count": null,
      "outputs": []
    },
    {
      "cell_type": "code",
      "source": [
        "A_tensor_zeros = torch.zeros_like(A_tensor)\n",
        "A_tensor_zeros"
      ],
      "metadata": {
        "id": "Wk_oGTYlibY0"
      },
      "execution_count": null,
      "outputs": []
    },
    {
      "cell_type": "code",
      "source": [
        "# the dtype argument allows you to explicitly specify the datatype of the tensor\n",
        "A_tensor_rand = torch.rand_like(A_tensor, dtype = torch.float)\n",
        "A_tensor_rand"
      ],
      "metadata": {
        "id": "Eqh6r0jNioQM"
      },
      "execution_count": null,
      "outputs": []
    },
    {
      "cell_type": "code",
      "source": [
        "A_tensor_rand.dtype\n",
        "A_tensor_rand.shape\n",
        "A_tensor_rand.device"
      ],
      "metadata": {
        "id": "21VTQ6p8i6Jx"
      },
      "execution_count": null,
      "outputs": []
    },
    {
      "cell_type": "code",
      "source": [
        "from torchvision.datasets import FashionMNIST\n",
        "from torchtext.datasets import AmazonReviewFull\n",
        "from torchaudio.datasets import SPEECHCOMMANDS\n",
        "\n",
        "training_data = FashionMNIST(\n",
        "    # directory you want to store the dataset, can be a string e.g. \"data\"\n",
        "    root = data_directory,\n",
        "    # if False, will give you test set instead\n",
        "    train = True,\n",
        "    # download dataset if not already available in the root path you specified\n",
        "    download = True,\n",
        "    # transform images to tensor data structures to PyTorch can use them for training\n",
        "    transform = ToTensor()\n",
        ")"
      ],
      "metadata": {
        "id": "-520psVmjBxi"
      },
      "execution_count": null,
      "outputs": []
    },
    {
      "cell_type": "code",
      "source": [
        "# True if a GPU (instead of CPU) is available to train on\n",
        "torch.cuda.is_available()"
      ],
      "metadata": {
        "id": "8pzehw4PkP3E"
      },
      "execution_count": null,
      "outputs": []
    }
  ]
}